{
 "cells": [
  {
   "cell_type": "code",
   "execution_count": null,
   "metadata": {},
   "outputs": [],
   "source": []
  },
  {
   "cell_type": "code",
   "execution_count": null,
   "metadata": {},
   "outputs": [],
   "source": []
  },
  {
   "cell_type": "code",
   "execution_count": null,
   "metadata": {},
   "outputs": [],
   "source": []
  },
  {
   "cell_type": "code",
   "execution_count": null,
   "metadata": {},
   "outputs": [],
   "source": []
  },
  {
   "cell_type": "code",
   "execution_count": null,
   "metadata": {},
   "outputs": [],
   "source": []
  },
  {
   "cell_type": "code",
   "execution_count": 3,
   "metadata": {},
   "outputs": [
    {
     "name": "stdout",
     "output_type": "stream",
     "text": [
      "Worst Fit\n",
      "\n",
      " Process No. | Process Size  |   Block no.\n",
      "      1            212            5\n",
      "      2            417            2\n",
      "      3            112            5\n",
      "      4            426            Not Allocated\n"
     ]
    }
   ],
   "source": [
    "# Harsh Shetye_60009210068_A2_SF_Memory Allocation\n",
    "def firstFit(blockSize, processSize):\n",
    "  m = len(blockSize)\n",
    "  n = len(processSize)\n",
    "  allocation = [-1] * n\n",
    "  for i in range(n):\n",
    "    for j in range(m):\n",
    "      if blockSize[j] >= processSize[i]:\n",
    "        allocation[i] = j\n",
    "        blockSize[j] -= processSize[i]\n",
    "        break        \n",
    "  print(\" Process No. | Process Size  |   Block no.\")\n",
    "  for i in range(n):\n",
    "    print(\"     \", i + 1, \"          \", processSize[i], \"          \", end = \" \")\n",
    "    if allocation[i] != -1:\n",
    "      print(allocation[i] + 1)\n",
    "    else:\n",
    "      print(\"Not Allocated\")\n",
    "\n",
    "\n",
    "def bestFit(blockSize, processSize):\n",
    "  m = len(blockSize)\n",
    "  n = len(processSize)\n",
    "  allocation = [-1] * n\n",
    "  for i in range(n): \n",
    "    Idx = -1\n",
    "    for j in range(m):\n",
    "      if blockSize[j] >= processSize[i]:\n",
    "        if Idx == -1:\n",
    "          Idx = j\n",
    "        elif blockSize[Idx] > blockSize[j]:\n",
    "          Idx = j\n",
    "    if Idx != -1:\n",
    "      allocation[i] = Idx\n",
    "      blockSize[Idx] -= processSize[i]\n",
    "  print(\" Process No. | Process Size  |   Block no.\")\n",
    "  for i in range(n):\n",
    "    print(\"     \", i + 1, \"          \", processSize[i], \"          \", end = \" \")\n",
    "    if allocation[i] != -1:\n",
    "      print(allocation[i] + 1)\n",
    "    else:\n",
    "      print(\"Not Allocated\")\n",
    "\n",
    "\n",
    "def worstFit(blockSize, processSize):\n",
    "  m = len(blockSize)\n",
    "  n = len(processSize)\n",
    "  allocation = [-1] * n\n",
    "  for i in range(n): \n",
    "    Idx = -1\n",
    "    for j in range(m):\n",
    "      if blockSize[j] >= processSize[i]:\n",
    "        if Idx == -1:\n",
    "          Idx = j\n",
    "        elif blockSize[Idx] < blockSize[j]:\n",
    "          Idx = j\n",
    "    if Idx != -1:\n",
    "      allocation[i] = Idx\n",
    "      blockSize[Idx] -= processSize[i]\n",
    "  print(\" Process No. | Process Size  |   Block no.\")\n",
    "  for i in range(n):\n",
    "      print(\"     \", i + 1, \"          \", processSize[i], \"          \", end = \" \")\n",
    "      if allocation[i] != -1:\n",
    "        print(allocation[i] + 1)\n",
    "      else:\n",
    "        print(\"Not Allocated\")\n",
    "\n",
    "blockSize = list(map(int, input(\"Enter block sizes separated by space: \").split()))\n",
    "processSize = list(map(int, input(\"Enter process sizes separated by space: \").split()))\n",
    "choice = int(input('Select amongst the following Contiguous Memory Allocation Policy\\n1. Best Fit\\n2. First Fit\\n3. Worst Fit\\n'))\n",
    "if choice == 1:\n",
    "  print(\"Best Fit\\n\")\n",
    "  bestFit(blockSize, processSize)\n",
    "elif choice == 2:\n",
    "  print(\"First Fit\\n\")\n",
    "  firstFit(blockSize, processSize)\n",
    "elif choice == 3:\n",
    "  print(\"Worst Fit\\n\")\n",
    "  worstFit(blockSize, processSize)\n",
    "else:\n",
    "  print(\"Invalid Choice\")"
   ]
  },
  {
   "cell_type": "code",
   "execution_count": null,
   "metadata": {},
   "outputs": [],
   "source": []
  },
  {
   "cell_type": "code",
   "execution_count": null,
   "metadata": {},
   "outputs": [],
   "source": []
  },
  {
   "cell_type": "code",
   "execution_count": null,
   "metadata": {},
   "outputs": [],
   "source": []
  },
  {
   "cell_type": "code",
   "execution_count": null,
   "metadata": {},
   "outputs": [],
   "source": []
  }
 ],
 "metadata": {
  "kernelspec": {
   "display_name": "Python 3",
   "language": "python",
   "name": "python3"
  },
  "language_info": {
   "codemirror_mode": {
    "name": "ipython",
    "version": 3
   },
   "file_extension": ".py",
   "mimetype": "text/x-python",
   "name": "python",
   "nbconvert_exporter": "python",
   "pygments_lexer": "ipython3",
   "version": "3.10.4"
  },
  "orig_nbformat": 4
 },
 "nbformat": 4,
 "nbformat_minor": 2
}
