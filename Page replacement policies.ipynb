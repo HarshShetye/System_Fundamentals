{
 "cells": [
  {
   "cell_type": "code",
   "execution_count": 13,
   "metadata": {},
   "outputs": [
    {
     "name": "stdout",
     "output_type": "stream",
     "text": [
      "[1, None, None]\n",
      "[1, 3, None]\n",
      "[1, 3, 0]\n",
      "[1, 3, 0]\n",
      "[5, 3, 0]\n",
      "[5, 6, 0]\n",
      "Number of Page Faults using FIFO: 5\n",
      "Hit Ratio using FIFO 0.16666666666666663\n"
     ]
    }
   ],
   "source": [
    "def FIFO(pages, frames):\n",
    "    page_faults = 0\n",
    "    page_frames = [None] * frames\n",
    "    frame_pointer = 0\n",
    "\n",
    "    for page in pages:\n",
    "        if page not in page_frames:\n",
    "            page_frames[frame_pointer] = page\n",
    "            frame_pointer = (frame_pointer + 1) % frames\n",
    "            page_faults += 1\n",
    "        print(page_frames)\n",
    "    \n",
    "    hit_ratio = 1 - (page_faults / len(pages))\n",
    "    return page_faults, hit_ratio\n",
    "pages_string=[1,3,0,3,5,6]\n",
    "page_frames=3\n",
    "faults,hitratio=FIFO(pages_string,page_frames)  \n",
    "print(f\"Number of Page Faults using FIFO: {faults}\")\n",
    "print(f\"Hit Ratio using FIFO {hitratio}\")"
   ]
  },
  {
   "cell_type": "code",
   "execution_count": 11,
   "metadata": {},
   "outputs": [
    {
     "name": "stdout",
     "output_type": "stream",
     "text": [
      "[7, None, None, None]\n",
      "[7, 0, None, None]\n",
      "[7, 0, 1, None]\n",
      "[7, 0, 1, 2]\n",
      "[7, 0, 1, 2]\n",
      "[3, 0, 1, 2]\n",
      "[3, 0, 1, 2]\n",
      "[3, 0, 4, 2]\n",
      "[3, 0, 4, 2]\n",
      "[3, 0, 4, 2]\n",
      "[3, 0, 4, 2]\n",
      "[3, 0, 4, 2]\n",
      "[3, 0, 4, 2]\n",
      "Number of Page Faults using LRU: 6\n",
      "Hit Ratio using LRU 0.5384615384615384\n"
     ]
    }
   ],
   "source": [
    "def LRU(pages,frames):\n",
    "    page_faults=0\n",
    "    page_frames=[]\n",
    "    page_usage=[]\n",
    "    for i in range(frames):\n",
    "        page_frames.append(None)\n",
    "        page_usage.append(-1)\n",
    "    for i in range(len(pages)):\n",
    "        if pages[i] not in page_frames:\n",
    "            if None in page_frames:\n",
    "                page_frames[page_frames.index(None)]=pages[i]\n",
    "                page_usage[page_frames.index(pages[i])]=i\n",
    "            else:\n",
    "                page_frames[page_usage.index(min(page_usage))]=pages[i]\n",
    "                page_usage[page_frames.index(pages[i])]=i \n",
    "            page_faults += 1       \n",
    "        else:\n",
    "            page_usage[page_frames.index(pages[i])]=i \n",
    "        print(page_frames)    \n",
    "    return page_faults, 1-(page_faults/len(pages)) \n",
    "pages_string=[7, 0, 1, 2, 0, 3, 0, 4, 2, 3, 0, 3, 2]\n",
    "page_frames=4\n",
    "faults,hitratio=LRU(pages_string,page_frames)  \n",
    "print(f\"Number of Page Faults using LRU: {faults}\")\n",
    "print(f\"Hit Ratio using LRU {hitratio}\") "
   ]
  },
  {
   "cell_type": "code",
   "execution_count": null,
   "metadata": {},
   "outputs": [],
   "source": [
    "def LRU(pages, frames):\n",
    "    page_faults = 0\n",
    "    page_frames = [-1] * frames\n",
    "    page_usage = [-1] * frames\n",
    "\n",
    "    for i in range(len(pages)):\n",
    "        if pages[i] not in page_frames:\n",
    "            if -1 in page_frames:\n",
    "                page_frames[page_frames.index(-1)] = pages[i]\n",
    "                page_usage[page_frames.index(pages[i])] = i\n",
    "            else:\n",
    "                page_frames[page_usage.index(min(page_usage))] = pages[i]\n",
    "                page_usage[page_frames.index(pages[i])] = i\n",
    "            page_faults += 1\n",
    "        else:\n",
    "            page_usage[page_frames.index(pages[i])] = i\n",
    "\n",
    "    hit_ratio = 1 - (page_faults / len(pages))\n",
    "    return page_faults, hit_ratio\n",
    "\n",
    "pages = [7, 0, 1, 2, 0, 3, 0, 4, 2, 3, 0, 3, 2]\n",
    "frames = 4\n",
    "faults, hit_ratio = LRU(pages, frames)\n",
    "\n",
    "print(f\"Number of Page Faults using LRU: {faults}\")\n",
    "print(f\"Hit Ratio using LRU: {hit_ratio}\")\n"
   ]
  },
  {
   "cell_type": "code",
   "execution_count": 2,
   "metadata": {},
   "outputs": [
    {
     "name": "stdout",
     "output_type": "stream",
     "text": [
      "[7, None, None, None]\n",
      "[7, 0, None, None]\n",
      "[7, 0, 1, None]\n",
      "[7, 0, 1, 2]\n",
      "[7, 0, 1, 2]\n",
      "[3, 0, 1, 2]\n",
      "[3, 0, 1, 2]\n",
      "[3, 0, 4, 2]\n",
      "[3, 0, 4, 2]\n",
      "[3, 0, 4, 2]\n",
      "[3, 0, 4, 2]\n",
      "[3, 0, 4, 2]\n",
      "[3, 0, 4, 2]\n",
      "Number of Page Faults using LRU: 6\n",
      "Hit Ratio using LRU 0.5384615384615384\n"
     ]
    }
   ],
   "source": [
    "def LRU(pages, frames):\n",
    "    page_faults = 0\n",
    "    page_frames = [None] * frames\n",
    "    page_usage = [-1] * frames\n",
    "    for i, page in enumerate(pages):\n",
    "        if page not in page_frames:\n",
    "            if None in page_frames:\n",
    "                page_frames[page_frames.index(None)] = page\n",
    "            else:\n",
    "                page_frames[page_usage.index(min(page_usage))] = page\n",
    "            page_faults += 1\n",
    "        page_usage[page_frames.index(page)] = i\n",
    "        print(page_frames)\n",
    "    hit_ratio = 1 - (page_faults / len(pages))\n",
    "    return page_faults, hit_ratio\n",
    "\n",
    "pages = [7, 0, 1, 2, 0, 3, 0, 4, 2, 3, 0, 3, 2]\n",
    "frames = 4\n",
    "faults, hit_ratio = LRU(pages, frames)\n",
    "print(f\"Number of Page Faults using LRU: {faults}\")\n",
    "print(f\"Hit Ratio using LRU {hit_ratio}\")\n"
   ]
  },
  {
   "cell_type": "code",
   "execution_count": 10,
   "metadata": {},
   "outputs": [
    {
     "name": "stdout",
     "output_type": "stream",
     "text": [
      "[7, None, None, None]\n",
      "[7, 0, None, None]\n",
      "[7, 0, 1, None]\n",
      "[7, 0, 1, 2]\n",
      "[7, 0, 1, 2]\n",
      "[3, 0, 1, 2]\n",
      "[3, 0, 1, 2]\n",
      "[3, 0, 4, 2]\n",
      "[3, 0, 4, 2]\n",
      "[3, 0, 4, 2]\n",
      "[3, 0, 4, 2]\n",
      "[3, 0, 4, 2]\n",
      "[3, 0, 4, 2]\n",
      "Number of Page Faults using Optimal: 6\n",
      "Hit Ratio using Optimal 0.5384615384615384\n"
     ]
    }
   ],
   "source": [
    "def Optimal(pages,frames):\n",
    "    page_faults=0\n",
    "    page_frames=[]\n",
    "    for i in range(frames):\n",
    "        page_frames.append(None)\n",
    "    for i in range(len(pages)):\n",
    "        if pages[i] not in page_frames:\n",
    "            if None in page_frames:\n",
    "                page_frames[page_frames.index(None)]=pages[i]\n",
    "            else:\n",
    "                furthest_used=-1\n",
    "                replace_page=None\n",
    "                for j in range(frames):\n",
    "                    if page_frames[j] in pages[i+1:]:\n",
    "                        if pages[i+1:].index(page_frames[j])>furthest_used:\n",
    "                            furthest_used=pages[i+1:].index(page_frames[j])\n",
    "                            replace_page=page_frames[j]\n",
    "                    else:\n",
    "                        replace_page=page_frames[j]\n",
    "                        break\n",
    "                page_frames[page_frames.index(replace_page)]=pages[i]\n",
    "            page_faults+=1\n",
    "        print(page_frames)    \n",
    "    return page_faults, 1-(page_faults/len(pages))\n",
    "pages_string=[7, 0, 1, 2, 0, 3, 0, 4, 2, 3, 0, 3, 2]\n",
    "page_frames=4\n",
    "faults,hitratio=Optimal(pages_string,page_frames)  \n",
    "print(f\"Number of Page Faults using Optimal: {faults}\")\n",
    "print(f\"Hit Ratio using Optimal {hitratio}\")"
   ]
  },
  {
   "cell_type": "code",
   "execution_count": 4,
   "metadata": {},
   "outputs": [
    {
     "name": "stdout",
     "output_type": "stream",
     "text": [
      "[7, None, None, None]\n",
      "[7, 0, None, None]\n",
      "[7, 0, 1, None]\n",
      "[7, 0, 1, 2]\n",
      "[7, 0, 1, 2]\n",
      "[3, 0, 1, 2]\n",
      "[3, 0, 1, 2]\n",
      "[3, 0, 4, 2]\n",
      "[3, 0, 4, 2]\n",
      "[3, 0, 4, 2]\n",
      "[3, 0, 4, 2]\n",
      "[3, 0, 4, 2]\n",
      "[3, 0, 4, 2]\n",
      "Number of Page Faults using Optimal: 6\n",
      "Hit Ratio using Optimal 0.5384615384615384\n"
     ]
    }
   ],
   "source": [
    "def Optimal(pages, frames):\n",
    "    page_faults = 0\n",
    "    page_frames = [None] * frames\n",
    "    for i, page in enumerate(pages):\n",
    "        if page not in page_frames:\n",
    "            if None in page_frames:\n",
    "                page_frames[page_frames.index(None)] = page\n",
    "            else:\n",
    "                replace_page = max(page_frames, key=lambda x: pages[i+1:].index(x) if x in pages[i+1:] else float('inf'))\n",
    "                page_frames[page_frames.index(replace_page)] = page\n",
    "            page_faults += 1\n",
    "        print(page_frames)\n",
    "    hit_ratio = 1 - (page_faults / len(pages))\n",
    "    return page_faults, hit_ratio\n",
    "\n",
    "pages = [7, 0, 1, 2, 0, 3, 0, 4, 2, 3, 0, 3, 2]\n",
    "frames = 4\n",
    "faults, hit_ratio = Optimal(pages, frames)\n",
    "print(f\"Number of Page Faults using Optimal: {faults}\")\n",
    "print(f\"Hit Ratio using Optimal {hit_ratio}\")\n"
   ]
  },
  {
   "cell_type": "code",
   "execution_count": null,
   "metadata": {},
   "outputs": [],
   "source": []
  }
 ],
 "metadata": {
  "kernelspec": {
   "display_name": "Python 3",
   "language": "python",
   "name": "python3"
  },
  "language_info": {
   "codemirror_mode": {
    "name": "ipython",
    "version": 3
   },
   "file_extension": ".py",
   "mimetype": "text/x-python",
   "name": "python",
   "nbconvert_exporter": "python",
   "pygments_lexer": "ipython3",
   "version": "3.10.4"
  },
  "orig_nbformat": 4
 },
 "nbformat": 4,
 "nbformat_minor": 2
}
